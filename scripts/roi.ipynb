{
 "cells": [
  {
   "cell_type": "code",
   "execution_count": 2,
   "id": "4619f36d-9066-48e8-8124-9f1a1e8010ff",
   "metadata": {},
   "outputs": [],
   "source": [
    "import cv2\n",
    "import numpy as np\n",
    "import os"
   ]
  },
  {
   "cell_type": "code",
   "execution_count": 2,
   "id": "5a441278-52cf-450a-88e7-3e87a9b6c34a",
   "metadata": {},
   "outputs": [
    {
     "name": "stdout",
     "output_type": "stream",
     "text": [
      "Channels:\n",
      " - defaults\n",
      " - pytorch\n",
      " - conda-forge\n",
      "Platform: linux-64\n",
      "Collecting package metadata (repodata.json): done\n",
      "Solving environment: failed\n",
      "\n",
      "PackagesNotFoundError: The following packages are not available from current channels:\n",
      "\n",
      "  - opencv-python\n",
      "\n",
      "Current channels:\n",
      "\n",
      "  - defaults\n",
      "  - https://conda.anaconda.org/pytorch/linux-64\n",
      "  - https://conda.anaconda.org/conda-forge/noarch\n",
      "\n",
      "To search for alternate channels that may provide the conda package you're\n",
      "looking for, navigate to\n",
      "\n",
      "    https://anaconda.org\n",
      "\n",
      "and use the search bar at the top of the page.\n",
      "\n",
      "\n"
     ]
    }
   ],
   "source": [
    "!conda install opencv-python"
   ]
  },
  {
   "cell_type": "code",
   "execution_count": 4,
   "id": "089568de-ffd0-4c9e-8337-1c61cbef4205",
   "metadata": {},
   "outputs": [
    {
     "name": "stdout",
     "output_type": "stream",
     "text": [
      "Collecting opencv-python\n",
      "  Downloading opencv_python-4.9.0.80-cp37-abi3-manylinux_2_17_x86_64.manylinux2014_x86_64.whl.metadata (20 kB)\n",
      "Requirement already satisfied: numpy>=1.17.0 in /home/jslee/miniconda3/envs/pytorch-CycleGAN-and-pix2pix/lib/python3.8/site-packages (from opencv-python) (1.24.4)\n",
      "Downloading opencv_python-4.9.0.80-cp37-abi3-manylinux_2_17_x86_64.manylinux2014_x86_64.whl (62.2 MB)\n",
      "\u001b[2K   \u001b[38;2;114;156;31m━━━━━━━━━━━━━━━━━━━━━━━━━━━━━━━━━━━━━━━━\u001b[0m \u001b[32m62.2/62.2 MB\u001b[0m \u001b[31m40.8 MB/s\u001b[0m eta \u001b[36m0:00:00\u001b[0mm eta \u001b[36m0:00:01\u001b[0m0:01\u001b[0m:01\u001b[0m\n",
      "\u001b[?25hInstalling collected packages: opencv-python\n",
      "Successfully installed opencv-python-4.9.0.80\n"
     ]
    }
   ],
   "source": [
    "!pip3 install opencv-python"
   ]
  },
  {
   "cell_type": "code",
   "execution_count": 5,
   "id": "05adbf46-9d2e-44fc-9d31-69f2407ca91b",
   "metadata": {},
   "outputs": [],
   "source": [
    "import cv2\n",
    "import numpy as np\n",
    "import os"
   ]
  },
  {
   "cell_type": "code",
   "execution_count": 6,
   "id": "be37298a-ed3b-4668-b22c-489c89ebf00f",
   "metadata": {},
   "outputs": [],
   "source": [
    "data_route = \"/home/jslee/uvcgan2/data/new_crop_colonoscopic\"\n",
    "save_route = \"/home/jslee/uvcgan2/data/roi_colonoscopic\""
   ]
  },
  {
   "cell_type": "code",
   "execution_count": null,
   "id": "f77df387-ad32-4aa5-b652-ecbc1882ffb7",
   "metadata": {},
   "outputs": [],
   "source": [
    "for mode1 in {\"test\", \"train\"}:\n",
    "    for mode2 in {\"nbi\", \"wl\"}:\n",
    "        real_route = data_route+\"/\"+mode1+\"/\" + mode2\n",
    "        for image_ad in os.listdir(real_route):\n",
    "            img = cv2.imread(real_route + \"/\" + image_ad)\n",
    "            x,y,w,h = cv2.selectROI('img', img, False)\n",
    "            if w and h:\n",
    "                roi = img[y:y+h, x:x+w]\n",
    "                cv2.imshow('cropped', roi)                   # ROI 지정 영역을 새창으로 표시\n",
    "                cv2.moveWindow('cropped', 0, 0)              # 새창을 화면 측 상단으로 이동\n",
    "                cv2.imwrite(f'{save_route}/{mode1}/{mode2}/roi_{img}', roi)  # ROI 영역만 파일로 저장\n",
    "                \n",
    "            cv2.imshow('img', img)\n",
    "            cv2.waitKey(0)\n",
    "            cv2.destroyAllWindows()"
   ]
  },
  {
   "cell_type": "code",
   "execution_count": null,
   "id": "f8e75248-4a32-4cf0-9b18-c9028225c89c",
   "metadata": {},
   "outputs": [],
   "source": [
    "img = cv2.imread(\"/home/jslee/uvcgan2/data/sunset.jpg\")\n",
    "x, y, w, h = cv2.selectROI('img', img, False)\n",
    "if w and h:\n",
    "    roi = img[y:y+h, x:x+w]\n",
    "    cv2.imshow('cropped', roi)                   # ROI 지정 영역을 새창으로 표시\n",
    "    cv2.moveWindow('cropped', 0, 0)              # 새창을 화면 측 상단으로 이동\n",
    "    cv2.imwrite(\"/home/jslee/uvcgan2/data/\", roi)  # ROI 영역만 파일로 저장\n",
    "    cv2.imshow('img', img)\n",
    "    cv2.waitKey(0)\n",
    "    cv2.destroyAllWindows()"
   ]
  },
  {
   "cell_type": "code",
   "execution_count": null,
   "id": "bc0b9a93-7fbe-45db-a6de-29538af3c35f",
   "metadata": {},
   "outputs": [],
   "source": []
  }
 ],
 "metadata": {
  "kernelspec": {
   "display_name": "Python 3 (ipykernel)",
   "language": "python",
   "name": "python3"
  },
  "language_info": {
   "codemirror_mode": {
    "name": "ipython",
    "version": 3
   },
   "file_extension": ".py",
   "mimetype": "text/x-python",
   "name": "python",
   "nbconvert_exporter": "python",
   "pygments_lexer": "ipython3",
   "version": "3.8.19"
  }
 },
 "nbformat": 4,
 "nbformat_minor": 5
}
